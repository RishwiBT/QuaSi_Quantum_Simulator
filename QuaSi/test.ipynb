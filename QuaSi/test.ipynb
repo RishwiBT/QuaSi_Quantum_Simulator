{
 "cells": [
  {
   "cell_type": "code",
   "execution_count": 3,
   "metadata": {},
   "outputs": [
    {
     "name": "stdout",
     "output_type": "stream",
     "text": [
      "Probabilities: {'00000': 0.25, '00100': 0.25, '11011': 0.25, '11111': 0.25}\n"
     ]
    }
   ],
   "source": [
    "from quasi.simulator import StateVectorSimulator\n",
    "\n",
    "sim = StateVectorSimulator(5)\n",
    "sim.apply_gate('h', [0])\n",
    "sim.apply_gate('cx', [0, 1])\n",
    "sim.apply_gate('h', [2])\n",
    "sim.apply_gate('cx', [0, 2])\n",
    "sim.apply_gate('cx', [0, 3])\n",
    "sim.apply_gate('cx', [0, 4])\n",
    "print(\"Probabilities:\", sim.get_probabilities())  # Expect: {'11': 1.0}"
   ]
  },
  {
   "cell_type": "code",
   "execution_count": null,
   "metadata": {},
   "outputs": [],
   "source": []
  }
 ],
 "metadata": {
  "kernelspec": {
   "display_name": ".venv",
   "language": "python",
   "name": "python3"
  },
  "language_info": {
   "codemirror_mode": {
    "name": "ipython",
    "version": 3
   },
   "file_extension": ".py",
   "mimetype": "text/x-python",
   "name": "python",
   "nbconvert_exporter": "python",
   "pygments_lexer": "ipython3",
   "version": "3.12.1"
  }
 },
 "nbformat": 4,
 "nbformat_minor": 2
}
